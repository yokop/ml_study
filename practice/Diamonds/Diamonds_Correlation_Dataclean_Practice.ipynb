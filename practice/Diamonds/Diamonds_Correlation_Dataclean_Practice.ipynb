{
 "cells": [
  {
   "cell_type": "markdown",
   "metadata": {
    "id": "BAGPsOzzmu60"
   },
   "source": [
    "### Diamonds Practice"
   ]
  },
  {
   "cell_type": "markdown",
   "metadata": {
    "id": "q1AguZF6mu62"
   },
   "source": [
    "## Features Overview\n",
    "* **Carat : ** Carat weight of the Diamond.\n",
    "* **Cut : ** Describe cut quality of the diamond.\n",
    "> * Quality in increasing order Fair, Good, Very Good, Premium, Ideal .\n",
    "* **Color : ** Color of the Diamond.\n",
    "> * With D being the best and J the worst.\n",
    "* **Clarity : ** Diamond Clarity refers to the absence of the Inclusions and Blemishes.\n",
    "> * (In order from Best to Worst, FL = flawless, I3= level 3 inclusions) FL, IF, VVS1, VVS2, VS1, VS2, SI1, SI2, I1, I2, I3\n",
    "* **Depth : ** The Height of a Diamond, measured from the Culet to the table, divided by its average Girdle Diameter.\n",
    "* **Table : ** The Width of the Diamond's Table expressed as a Percentage of its Average Diameter.\n",
    "* **Price : ** the Price of the Diamond.\n",
    "* **X : ** Length of the Diamond in mm.\n",
    "* **Y : ** Width of the Diamond in mm.\n",
    "* **Z : ** Height of the Diamond in mm.\n",
    "\n",
    "*Qualitative Features (Categorical) : Cut, Color, Clarity. *\n",
    "\n",
    "*Quantitative Features (Numerical) : Carat, Depth , Table , Price , X , Y, Z.*\n",
    "\n",
    "\n",
    "### Price is the Target Variable.\n",
    "\n"
   ]
  },
  {
   "cell_type": "markdown",
   "metadata": {
    "id": "Vs1Np54vmu62"
   },
   "source": [
    "![](https://i.imgur.com/Bbf0GWk.jpg)"
   ]
  },
  {
   "cell_type": "code",
   "execution_count": null,
   "metadata": {
    "id": "vrm9zGsVmu63"
   },
   "outputs": [],
   "source": [
    "import pandas as pd"
   ]
  },
  {
   "cell_type": "code",
   "execution_count": null,
   "metadata": {
    "id": "KDxn-rA_mu63"
   },
   "outputs": [],
   "source": [
    "\n",
    "df = pd.read_csv('diamonds.csv')\n",
    "diamonds = df.copy()"
   ]
  },
  {
   "cell_type": "code",
   "execution_count": null,
   "metadata": {
    "id": "FEjv2sKvmu63",
    "outputId": "ad538d21-8104-4062-e50a-0a80ca39dc91"
   },
   "outputs": [
    {
     "data": {
      "text/html": [
       "<div>\n",
       "<style scoped>\n",
       "    .dataframe tbody tr th:only-of-type {\n",
       "        vertical-align: middle;\n",
       "    }\n",
       "\n",
       "    .dataframe tbody tr th {\n",
       "        vertical-align: top;\n",
       "    }\n",
       "\n",
       "    .dataframe thead th {\n",
       "        text-align: right;\n",
       "    }\n",
       "</style>\n",
       "<table border=\"1\" class=\"dataframe\">\n",
       "  <thead>\n",
       "    <tr style=\"text-align: right;\">\n",
       "      <th></th>\n",
       "      <th>Unnamed: 0</th>\n",
       "      <th>carat</th>\n",
       "      <th>cut</th>\n",
       "      <th>color</th>\n",
       "      <th>clarity</th>\n",
       "      <th>depth</th>\n",
       "      <th>table</th>\n",
       "      <th>price</th>\n",
       "      <th>x</th>\n",
       "      <th>y</th>\n",
       "      <th>z</th>\n",
       "    </tr>\n",
       "  </thead>\n",
       "  <tbody>\n",
       "    <tr>\n",
       "      <th>0</th>\n",
       "      <td>1</td>\n",
       "      <td>0.23</td>\n",
       "      <td>Ideal</td>\n",
       "      <td>E</td>\n",
       "      <td>SI2</td>\n",
       "      <td>61.5</td>\n",
       "      <td>55.0</td>\n",
       "      <td>326</td>\n",
       "      <td>3.95</td>\n",
       "      <td>3.98</td>\n",
       "      <td>2.43</td>\n",
       "    </tr>\n",
       "    <tr>\n",
       "      <th>1</th>\n",
       "      <td>2</td>\n",
       "      <td>0.21</td>\n",
       "      <td>Premium</td>\n",
       "      <td>E</td>\n",
       "      <td>SI1</td>\n",
       "      <td>59.8</td>\n",
       "      <td>61.0</td>\n",
       "      <td>326</td>\n",
       "      <td>3.89</td>\n",
       "      <td>3.84</td>\n",
       "      <td>2.31</td>\n",
       "    </tr>\n",
       "    <tr>\n",
       "      <th>2</th>\n",
       "      <td>3</td>\n",
       "      <td>0.23</td>\n",
       "      <td>Good</td>\n",
       "      <td>E</td>\n",
       "      <td>VS1</td>\n",
       "      <td>56.9</td>\n",
       "      <td>65.0</td>\n",
       "      <td>327</td>\n",
       "      <td>4.05</td>\n",
       "      <td>4.07</td>\n",
       "      <td>2.31</td>\n",
       "    </tr>\n",
       "    <tr>\n",
       "      <th>3</th>\n",
       "      <td>4</td>\n",
       "      <td>0.29</td>\n",
       "      <td>Premium</td>\n",
       "      <td>I</td>\n",
       "      <td>VS2</td>\n",
       "      <td>62.4</td>\n",
       "      <td>58.0</td>\n",
       "      <td>334</td>\n",
       "      <td>4.20</td>\n",
       "      <td>4.23</td>\n",
       "      <td>2.63</td>\n",
       "    </tr>\n",
       "    <tr>\n",
       "      <th>4</th>\n",
       "      <td>5</td>\n",
       "      <td>0.31</td>\n",
       "      <td>Good</td>\n",
       "      <td>J</td>\n",
       "      <td>SI2</td>\n",
       "      <td>63.3</td>\n",
       "      <td>58.0</td>\n",
       "      <td>335</td>\n",
       "      <td>4.34</td>\n",
       "      <td>4.35</td>\n",
       "      <td>2.75</td>\n",
       "    </tr>\n",
       "    <tr>\n",
       "      <th>...</th>\n",
       "      <td>...</td>\n",
       "      <td>...</td>\n",
       "      <td>...</td>\n",
       "      <td>...</td>\n",
       "      <td>...</td>\n",
       "      <td>...</td>\n",
       "      <td>...</td>\n",
       "      <td>...</td>\n",
       "      <td>...</td>\n",
       "      <td>...</td>\n",
       "      <td>...</td>\n",
       "    </tr>\n",
       "    <tr>\n",
       "      <th>95</th>\n",
       "      <td>96</td>\n",
       "      <td>0.70</td>\n",
       "      <td>Good</td>\n",
       "      <td>E</td>\n",
       "      <td>VS2</td>\n",
       "      <td>57.5</td>\n",
       "      <td>58.0</td>\n",
       "      <td>2759</td>\n",
       "      <td>5.85</td>\n",
       "      <td>5.90</td>\n",
       "      <td>3.38</td>\n",
       "    </tr>\n",
       "    <tr>\n",
       "      <th>96</th>\n",
       "      <td>97</td>\n",
       "      <td>0.70</td>\n",
       "      <td>Good</td>\n",
       "      <td>F</td>\n",
       "      <td>VS1</td>\n",
       "      <td>59.4</td>\n",
       "      <td>62.0</td>\n",
       "      <td>2759</td>\n",
       "      <td>5.71</td>\n",
       "      <td>5.76</td>\n",
       "      <td>3.40</td>\n",
       "    </tr>\n",
       "    <tr>\n",
       "      <th>97</th>\n",
       "      <td>98</td>\n",
       "      <td>0.96</td>\n",
       "      <td>Fair</td>\n",
       "      <td>F</td>\n",
       "      <td>SI2</td>\n",
       "      <td>66.3</td>\n",
       "      <td>62.0</td>\n",
       "      <td>2759</td>\n",
       "      <td>6.27</td>\n",
       "      <td>5.95</td>\n",
       "      <td>4.07</td>\n",
       "    </tr>\n",
       "    <tr>\n",
       "      <th>98</th>\n",
       "      <td>99</td>\n",
       "      <td>0.73</td>\n",
       "      <td>Very Good</td>\n",
       "      <td>E</td>\n",
       "      <td>SI1</td>\n",
       "      <td>61.6</td>\n",
       "      <td>59.0</td>\n",
       "      <td>2760</td>\n",
       "      <td>5.77</td>\n",
       "      <td>5.78</td>\n",
       "      <td>3.56</td>\n",
       "    </tr>\n",
       "    <tr>\n",
       "      <th>99</th>\n",
       "      <td>100</td>\n",
       "      <td>0.80</td>\n",
       "      <td>Premium</td>\n",
       "      <td>H</td>\n",
       "      <td>SI1</td>\n",
       "      <td>61.5</td>\n",
       "      <td>58.0</td>\n",
       "      <td>2760</td>\n",
       "      <td>5.97</td>\n",
       "      <td>5.93</td>\n",
       "      <td>3.66</td>\n",
       "    </tr>\n",
       "  </tbody>\n",
       "</table>\n",
       "<p>100 rows × 11 columns</p>\n",
       "</div>"
      ],
      "text/plain": [
       "    Unnamed: 0  carat        cut color clarity  depth  table  price     x  \\\n",
       "0            1   0.23      Ideal     E     SI2   61.5   55.0    326  3.95   \n",
       "1            2   0.21    Premium     E     SI1   59.8   61.0    326  3.89   \n",
       "2            3   0.23       Good     E     VS1   56.9   65.0    327  4.05   \n",
       "3            4   0.29    Premium     I     VS2   62.4   58.0    334  4.20   \n",
       "4            5   0.31       Good     J     SI2   63.3   58.0    335  4.34   \n",
       "..         ...    ...        ...   ...     ...    ...    ...    ...   ...   \n",
       "95          96   0.70       Good     E     VS2   57.5   58.0   2759  5.85   \n",
       "96          97   0.70       Good     F     VS1   59.4   62.0   2759  5.71   \n",
       "97          98   0.96       Fair     F     SI2   66.3   62.0   2759  6.27   \n",
       "98          99   0.73  Very Good     E     SI1   61.6   59.0   2760  5.77   \n",
       "99         100   0.80    Premium     H     SI1   61.5   58.0   2760  5.97   \n",
       "\n",
       "       y     z  \n",
       "0   3.98  2.43  \n",
       "1   3.84  2.31  \n",
       "2   4.07  2.31  \n",
       "3   4.23  2.63  \n",
       "4   4.35  2.75  \n",
       "..   ...   ...  \n",
       "95  5.90  3.38  \n",
       "96  5.76  3.40  \n",
       "97  5.95  4.07  \n",
       "98  5.78  3.56  \n",
       "99  5.93  3.66  \n",
       "\n",
       "[100 rows x 11 columns]"
      ]
     },
     "execution_count": 53,
     "metadata": {
      "tags": []
     },
     "output_type": "execute_result"
    }
   ],
   "source": [
    "df.head(100)"
   ]
  },
  {
   "cell_type": "code",
   "execution_count": null,
   "metadata": {
    "id": "RAZ9HSz2mu64",
    "outputId": "4f16a095-2f1e-4b56-f9d9-faf335b78597"
   },
   "outputs": [
    {
     "name": "stdout",
     "output_type": "stream",
     "text": [
      "<class 'pandas.core.frame.DataFrame'>\n",
      "RangeIndex: 53940 entries, 0 to 53939\n",
      "Data columns (total 11 columns):\n",
      " #   Column      Non-Null Count  Dtype  \n",
      "---  ------      --------------  -----  \n",
      " 0   Unnamed: 0  53940 non-null  int64  \n",
      " 1   carat       53940 non-null  float64\n",
      " 2   cut         53940 non-null  object \n",
      " 3   color       53940 non-null  object \n",
      " 4   clarity     53940 non-null  object \n",
      " 5   depth       53940 non-null  float64\n",
      " 6   table       53940 non-null  float64\n",
      " 7   price       53940 non-null  int64  \n",
      " 8   x           53940 non-null  float64\n",
      " 9   y           53940 non-null  float64\n",
      " 10  z           53940 non-null  float64\n",
      "dtypes: float64(6), int64(2), object(3)\n",
      "memory usage: 4.5+ MB\n"
     ]
    }
   ],
   "source": [
    "df.info()"
   ]
  },
  {
   "cell_type": "markdown",
   "metadata": {
    "id": "r9a-iqnfmu65"
   },
   "source": [
    "### Practice\n",
    "\n",
    "Replace the non numerical data with numeric data\n",
    "1. Use solution (diamonds-in-depth-analysis notebook) in order to detmine if the data is categorical or ordinal\n",
    "2. Replace with appropriate values (if the data is ordinal, replace with the required order)\n",
    "3. If there were missing values in these columns, what would you replace it with? (use slide 43 to determine)"
   ]
  },
  {
   "cell_type": "code",
   "execution_count": null,
   "metadata": {
    "id": "KgCIuoQ1mu65",
    "outputId": "81a313ed-13ce-4c69-f12c-1a6ec99aab77"
   },
   "outputs": [
    {
     "data": {
      "text/plain": [
       "['Ideal', 'Premium', 'Good', 'Very Good', 'Fair']"
      ]
     },
     "execution_count": 55,
     "metadata": {
      "tags": []
     },
     "output_type": "execute_result"
    }
   ],
   "source": [
    "df.cut.unique().tolist()"
   ]
  },
  {
   "cell_type": "markdown",
   "metadata": {
    "id": "XQ2MBibcmu65"
   },
   "source": [
    "Ideal - 1\n",
    "Premium - 2\n",
    "Very Good - 3\n",
    "Good - 4\n",
    "Fair - 5"
   ]
  },
  {
   "cell_type": "markdown",
   "metadata": {
    "id": "3_0KYuaXmu65"
   },
   "source": [
    "#### Solution"
   ]
  },
  {
   "cell_type": "markdown",
   "metadata": {
    "id": "tqsi_UTPmu66"
   },
   "source": [
    "Data is ordinal since it can be ordered "
   ]
  },
  {
   "cell_type": "markdown",
   "metadata": {
    "id": "mewJi9_Mmu66"
   },
   "source": [
    "##### first approuch - replace values"
   ]
  },
  {
   "cell_type": "code",
   "execution_count": null,
   "metadata": {
    "id": "0naWF4fCmu66",
    "outputId": "1a3f616d-f779-40b0-a9e2-a7f80d6ec45a"
   },
   "outputs": [
    {
     "ename": "SyntaxError",
     "evalue": "invalid syntax (<ipython-input-56-1fd328891701>, line 1)",
     "output_type": "error",
     "traceback": [
      "\u001b[0;36m  File \u001b[0;32m\"<ipython-input-56-1fd328891701>\"\u001b[0;36m, line \u001b[0;32m1\u001b[0m\n\u001b[0;31m    df[\"cut\"].replace({\"Ideal\": 1, \"Premium\": 2, ...}, inplace=True)\u001b[0m\n\u001b[0m                                                    ^\u001b[0m\n\u001b[0;31mSyntaxError\u001b[0m\u001b[0;31m:\u001b[0m invalid syntax\n"
     ]
    }
   ],
   "source": [
    "df[\"cut\"].replace({\"Ideal\": 1, \"Premium\": 2, ...}, inplace=True)"
   ]
  },
  {
   "cell_type": "markdown",
   "metadata": {
    "id": "8Cc8p8sgmu66"
   },
   "source": [
    "##### Second Approuch - Label Encoding"
   ]
  },
  {
   "cell_type": "markdown",
   "metadata": {
    "id": "3zn3ncWCmu66"
   },
   "source": [
    "Use Panda's category data type in order to cast strings to numeric values\n",
    "The nice aspect of this approach is that you get the benefits of pandas categories (compact data size, ability to order, plotting support) but can easily be converted to numeric values for further analysis."
   ]
  },
  {
   "cell_type": "code",
   "execution_count": null,
   "metadata": {
    "id": "IGj0X1ECmu67"
   },
   "outputs": [],
   "source": [
    "# convert a column to a category, then use those category values for your label encoding\n",
    "df['cut']  = df['cut'].astype('category')\n",
    "df.dtypes"
   ]
  },
  {
   "cell_type": "code",
   "execution_count": null,
   "metadata": {
    "id": "UUsD5MuImu67"
   },
   "outputs": [],
   "source": [
    "df['cut'].cat.codes"
   ]
  },
  {
   "cell_type": "code",
   "execution_count": null,
   "metadata": {
    "id": "vN3X2UUCmu67"
   },
   "outputs": [],
   "source": [
    "# the values remains the same but they have a corresponding numeric value \n",
    "df['cut']"
   ]
  },
  {
   "cell_type": "code",
   "execution_count": null,
   "metadata": {
    "id": "e6BPReHbmu67"
   },
   "outputs": [],
   "source": [
    "df['cut'].dtype"
   ]
  },
  {
   "cell_type": "code",
   "execution_count": null,
   "metadata": {
    "id": "iLaLdjLAmu67"
   },
   "outputs": [],
   "source": [
    "# The values are not ordered correctly. Let's change that\n",
    "from pandas.api.types import CategoricalDtype\n",
    "cd = CategoricalDtype(categories=['Fair', 'Good', 'Very Good', 'Premium', 'Ideal'], ordered=True)\n",
    "df['cut']  = df['cut'].astype(cd)"
   ]
  },
  {
   "cell_type": "code",
   "execution_count": null,
   "metadata": {
    "id": "fRL5SOhrmu67"
   },
   "outputs": [],
   "source": [
    "df['cut'].dtype"
   ]
  },
  {
   "cell_type": "code",
   "execution_count": 1,
   "metadata": {
    "colab": {
     "base_uri": "https://localhost:8080/",
     "height": 180
    },
    "executionInfo": {
     "elapsed": 7,
     "status": "error",
     "timestamp": 1623584296581,
     "user": {
      "displayName": "Moran Danieli-Cohen",
      "photoUrl": "https://lh3.googleusercontent.com/a-/AOh14Gh-0PDeOLJJorN4DAEdw5lghgsN_H1qPXat1EWMSw=s64",
      "userId": "11757412286024088153"
     },
     "user_tz": -180
    },
    "id": "cf2Dmkprmu67",
    "outputId": "ca2861cb-6a84-4f2d-a0ee-fbea4e654d5d"
   },
   "outputs": [
    {
     "ename": "NameError",
     "evalue": "ignored",
     "output_type": "error",
     "traceback": [
      "\u001b[0;31m---------------------------------------------------------------------------\u001b[0m",
      "\u001b[0;31mNameError\u001b[0m                                 Traceback (most recent call last)",
      "\u001b[0;32m<ipython-input-1-b99b2be5a25b>\u001b[0m in \u001b[0;36m<module>\u001b[0;34m()\u001b[0m\n\u001b[0;32m----> 1\u001b[0;31m \u001b[0mdf\u001b[0m\u001b[0;34m[\u001b[0m\u001b[0;34m'cut_codes'\u001b[0m\u001b[0;34m]\u001b[0m \u001b[0;34m=\u001b[0m \u001b[0mdf\u001b[0m\u001b[0;34m[\u001b[0m\u001b[0;34m'cut'\u001b[0m\u001b[0;34m]\u001b[0m\u001b[0;34m.\u001b[0m\u001b[0mcat\u001b[0m\u001b[0;34m.\u001b[0m\u001b[0mcodes\u001b[0m\u001b[0;34m\u001b[0m\u001b[0;34m\u001b[0m\u001b[0m\n\u001b[0m\u001b[1;32m      2\u001b[0m \u001b[0mdf\u001b[0m\u001b[0;34m[\u001b[0m\u001b[0;34m'cut_codes'\u001b[0m\u001b[0;34m]\u001b[0m\u001b[0;34m\u001b[0m\u001b[0;34m\u001b[0m\u001b[0m\n",
      "\u001b[0;31mNameError\u001b[0m: name 'df' is not defined"
     ]
    }
   ],
   "source": [
    "df['cut_codes'] = df['cut'].cat.codes\n",
    "df['cut_codes']"
   ]
  },
  {
   "cell_type": "code",
   "execution_count": null,
   "metadata": {
    "id": "T0Dzo9agmu68"
   },
   "outputs": [],
   "source": [
    "import seaborn as sns"
   ]
  },
  {
   "cell_type": "code",
   "execution_count": null,
   "metadata": {
    "id": "pUA92foxmu68"
   },
   "outputs": [],
   "source": [
    "sns.countplot(df['cut'])"
   ]
  },
  {
   "cell_type": "code",
   "execution_count": null,
   "metadata": {
    "id": "ys9fidfvmu68"
   },
   "outputs": [],
   "source": [
    "sns.catplot(x='cut', y='price', data=df, kind='box')"
   ]
  },
  {
   "cell_type": "markdown",
   "metadata": {
    "id": "H8HzO6YMmu68"
   },
   "source": [
    "TODO Apply similar behavior to the other categorical features\n",
    "\n",
    "TODO review Plotting with categorical data: https://seaborn.pydata.org/tutorial/categorical.html\n"
   ]
  },
  {
   "cell_type": "markdown",
   "metadata": {
    "id": "TqSo8hf6mu68"
   },
   "source": [
    "##### Third Approuch - Use get_dummies (for nominal data only)"
   ]
  },
  {
   "cell_type": "markdown",
   "metadata": {
    "id": "YWvOTxK4mu68"
   },
   "source": [
    "If the data was nominal, we could use pandas get_dummies in order to convert it.\n",
    "For this purpuse, let's assume color is nomimal."
   ]
  },
  {
   "cell_type": "code",
   "execution_count": null,
   "metadata": {
    "id": "W7jeOTDpmu68"
   },
   "outputs": [],
   "source": [
    "df['color'].value_counts()"
   ]
  },
  {
   "cell_type": "code",
   "execution_count": null,
   "metadata": {
    "id": "R4pzoFySmu69"
   },
   "outputs": [],
   "source": [
    "pd.get_dummies(df['color'])"
   ]
  },
  {
   "cell_type": "markdown",
   "metadata": {
    "id": "00BM2M_rmu69"
   },
   "source": [
    "In case there are only two options, you can use remove_first=True param, since one column is the opposite of the other, and therefore the data is duplicate\n",
    "You can also handle null values by using dummy_na parameter (in this case we have no null values)"
   ]
  },
  {
   "cell_type": "code",
   "execution_count": null,
   "metadata": {
    "id": "Ywa0gCRPmu69"
   },
   "outputs": [],
   "source": [
    "# apply for the entire data set\n",
    "df = pd.get_dummies(df, columns=['color'], drop_first=False, dummy_na=False)"
   ]
  },
  {
   "cell_type": "code",
   "execution_count": null,
   "metadata": {
    "id": "-J2vqHXimu69",
    "outputId": "682823b7-95a8-42ed-87fd-11b7e1e8cd74"
   },
   "outputs": [
    {
     "data": {
      "text/html": [
       "<div>\n",
       "<style scoped>\n",
       "    .dataframe tbody tr th:only-of-type {\n",
       "        vertical-align: middle;\n",
       "    }\n",
       "\n",
       "    .dataframe tbody tr th {\n",
       "        vertical-align: top;\n",
       "    }\n",
       "\n",
       "    .dataframe thead th {\n",
       "        text-align: right;\n",
       "    }\n",
       "</style>\n",
       "<table border=\"1\" class=\"dataframe\">\n",
       "  <thead>\n",
       "    <tr style=\"text-align: right;\">\n",
       "      <th></th>\n",
       "      <th>Unnamed: 0</th>\n",
       "      <th>carat</th>\n",
       "      <th>cut</th>\n",
       "      <th>clarity</th>\n",
       "      <th>depth</th>\n",
       "      <th>table</th>\n",
       "      <th>price</th>\n",
       "      <th>x</th>\n",
       "      <th>y</th>\n",
       "      <th>z</th>\n",
       "      <th>color_D</th>\n",
       "      <th>color_E</th>\n",
       "      <th>color_F</th>\n",
       "      <th>color_G</th>\n",
       "      <th>color_H</th>\n",
       "      <th>color_I</th>\n",
       "      <th>color_J</th>\n",
       "    </tr>\n",
       "  </thead>\n",
       "  <tbody>\n",
       "    <tr>\n",
       "      <th>0</th>\n",
       "      <td>1</td>\n",
       "      <td>0.23</td>\n",
       "      <td>Ideal</td>\n",
       "      <td>SI2</td>\n",
       "      <td>61.5</td>\n",
       "      <td>55.0</td>\n",
       "      <td>326</td>\n",
       "      <td>3.95</td>\n",
       "      <td>3.98</td>\n",
       "      <td>2.43</td>\n",
       "      <td>0</td>\n",
       "      <td>1</td>\n",
       "      <td>0</td>\n",
       "      <td>0</td>\n",
       "      <td>0</td>\n",
       "      <td>0</td>\n",
       "      <td>0</td>\n",
       "    </tr>\n",
       "    <tr>\n",
       "      <th>1</th>\n",
       "      <td>2</td>\n",
       "      <td>0.21</td>\n",
       "      <td>Premium</td>\n",
       "      <td>SI1</td>\n",
       "      <td>59.8</td>\n",
       "      <td>61.0</td>\n",
       "      <td>326</td>\n",
       "      <td>3.89</td>\n",
       "      <td>3.84</td>\n",
       "      <td>2.31</td>\n",
       "      <td>0</td>\n",
       "      <td>1</td>\n",
       "      <td>0</td>\n",
       "      <td>0</td>\n",
       "      <td>0</td>\n",
       "      <td>0</td>\n",
       "      <td>0</td>\n",
       "    </tr>\n",
       "    <tr>\n",
       "      <th>2</th>\n",
       "      <td>3</td>\n",
       "      <td>0.23</td>\n",
       "      <td>Good</td>\n",
       "      <td>VS1</td>\n",
       "      <td>56.9</td>\n",
       "      <td>65.0</td>\n",
       "      <td>327</td>\n",
       "      <td>4.05</td>\n",
       "      <td>4.07</td>\n",
       "      <td>2.31</td>\n",
       "      <td>0</td>\n",
       "      <td>1</td>\n",
       "      <td>0</td>\n",
       "      <td>0</td>\n",
       "      <td>0</td>\n",
       "      <td>0</td>\n",
       "      <td>0</td>\n",
       "    </tr>\n",
       "    <tr>\n",
       "      <th>3</th>\n",
       "      <td>4</td>\n",
       "      <td>0.29</td>\n",
       "      <td>Premium</td>\n",
       "      <td>VS2</td>\n",
       "      <td>62.4</td>\n",
       "      <td>58.0</td>\n",
       "      <td>334</td>\n",
       "      <td>4.20</td>\n",
       "      <td>4.23</td>\n",
       "      <td>2.63</td>\n",
       "      <td>0</td>\n",
       "      <td>0</td>\n",
       "      <td>0</td>\n",
       "      <td>0</td>\n",
       "      <td>0</td>\n",
       "      <td>1</td>\n",
       "      <td>0</td>\n",
       "    </tr>\n",
       "    <tr>\n",
       "      <th>4</th>\n",
       "      <td>5</td>\n",
       "      <td>0.31</td>\n",
       "      <td>Good</td>\n",
       "      <td>SI2</td>\n",
       "      <td>63.3</td>\n",
       "      <td>58.0</td>\n",
       "      <td>335</td>\n",
       "      <td>4.34</td>\n",
       "      <td>4.35</td>\n",
       "      <td>2.75</td>\n",
       "      <td>0</td>\n",
       "      <td>0</td>\n",
       "      <td>0</td>\n",
       "      <td>0</td>\n",
       "      <td>0</td>\n",
       "      <td>0</td>\n",
       "      <td>1</td>\n",
       "    </tr>\n",
       "    <tr>\n",
       "      <th>...</th>\n",
       "      <td>...</td>\n",
       "      <td>...</td>\n",
       "      <td>...</td>\n",
       "      <td>...</td>\n",
       "      <td>...</td>\n",
       "      <td>...</td>\n",
       "      <td>...</td>\n",
       "      <td>...</td>\n",
       "      <td>...</td>\n",
       "      <td>...</td>\n",
       "      <td>...</td>\n",
       "      <td>...</td>\n",
       "      <td>...</td>\n",
       "      <td>...</td>\n",
       "      <td>...</td>\n",
       "      <td>...</td>\n",
       "      <td>...</td>\n",
       "    </tr>\n",
       "    <tr>\n",
       "      <th>53935</th>\n",
       "      <td>53936</td>\n",
       "      <td>0.72</td>\n",
       "      <td>Ideal</td>\n",
       "      <td>SI1</td>\n",
       "      <td>60.8</td>\n",
       "      <td>57.0</td>\n",
       "      <td>2757</td>\n",
       "      <td>5.75</td>\n",
       "      <td>5.76</td>\n",
       "      <td>3.50</td>\n",
       "      <td>1</td>\n",
       "      <td>0</td>\n",
       "      <td>0</td>\n",
       "      <td>0</td>\n",
       "      <td>0</td>\n",
       "      <td>0</td>\n",
       "      <td>0</td>\n",
       "    </tr>\n",
       "    <tr>\n",
       "      <th>53936</th>\n",
       "      <td>53937</td>\n",
       "      <td>0.72</td>\n",
       "      <td>Good</td>\n",
       "      <td>SI1</td>\n",
       "      <td>63.1</td>\n",
       "      <td>55.0</td>\n",
       "      <td>2757</td>\n",
       "      <td>5.69</td>\n",
       "      <td>5.75</td>\n",
       "      <td>3.61</td>\n",
       "      <td>1</td>\n",
       "      <td>0</td>\n",
       "      <td>0</td>\n",
       "      <td>0</td>\n",
       "      <td>0</td>\n",
       "      <td>0</td>\n",
       "      <td>0</td>\n",
       "    </tr>\n",
       "    <tr>\n",
       "      <th>53937</th>\n",
       "      <td>53938</td>\n",
       "      <td>0.70</td>\n",
       "      <td>Very Good</td>\n",
       "      <td>SI1</td>\n",
       "      <td>62.8</td>\n",
       "      <td>60.0</td>\n",
       "      <td>2757</td>\n",
       "      <td>5.66</td>\n",
       "      <td>5.68</td>\n",
       "      <td>3.56</td>\n",
       "      <td>1</td>\n",
       "      <td>0</td>\n",
       "      <td>0</td>\n",
       "      <td>0</td>\n",
       "      <td>0</td>\n",
       "      <td>0</td>\n",
       "      <td>0</td>\n",
       "    </tr>\n",
       "    <tr>\n",
       "      <th>53938</th>\n",
       "      <td>53939</td>\n",
       "      <td>0.86</td>\n",
       "      <td>Premium</td>\n",
       "      <td>SI2</td>\n",
       "      <td>61.0</td>\n",
       "      <td>58.0</td>\n",
       "      <td>2757</td>\n",
       "      <td>6.15</td>\n",
       "      <td>6.12</td>\n",
       "      <td>3.74</td>\n",
       "      <td>0</td>\n",
       "      <td>0</td>\n",
       "      <td>0</td>\n",
       "      <td>0</td>\n",
       "      <td>1</td>\n",
       "      <td>0</td>\n",
       "      <td>0</td>\n",
       "    </tr>\n",
       "    <tr>\n",
       "      <th>53939</th>\n",
       "      <td>53940</td>\n",
       "      <td>0.75</td>\n",
       "      <td>Ideal</td>\n",
       "      <td>SI2</td>\n",
       "      <td>62.2</td>\n",
       "      <td>55.0</td>\n",
       "      <td>2757</td>\n",
       "      <td>5.83</td>\n",
       "      <td>5.87</td>\n",
       "      <td>3.64</td>\n",
       "      <td>1</td>\n",
       "      <td>0</td>\n",
       "      <td>0</td>\n",
       "      <td>0</td>\n",
       "      <td>0</td>\n",
       "      <td>0</td>\n",
       "      <td>0</td>\n",
       "    </tr>\n",
       "  </tbody>\n",
       "</table>\n",
       "<p>53940 rows × 17 columns</p>\n",
       "</div>"
      ],
      "text/plain": [
       "       Unnamed: 0  carat        cut clarity  depth  table  price     x     y  \\\n",
       "0               1   0.23      Ideal     SI2   61.5   55.0    326  3.95  3.98   \n",
       "1               2   0.21    Premium     SI1   59.8   61.0    326  3.89  3.84   \n",
       "2               3   0.23       Good     VS1   56.9   65.0    327  4.05  4.07   \n",
       "3               4   0.29    Premium     VS2   62.4   58.0    334  4.20  4.23   \n",
       "4               5   0.31       Good     SI2   63.3   58.0    335  4.34  4.35   \n",
       "...           ...    ...        ...     ...    ...    ...    ...   ...   ...   \n",
       "53935       53936   0.72      Ideal     SI1   60.8   57.0   2757  5.75  5.76   \n",
       "53936       53937   0.72       Good     SI1   63.1   55.0   2757  5.69  5.75   \n",
       "53937       53938   0.70  Very Good     SI1   62.8   60.0   2757  5.66  5.68   \n",
       "53938       53939   0.86    Premium     SI2   61.0   58.0   2757  6.15  6.12   \n",
       "53939       53940   0.75      Ideal     SI2   62.2   55.0   2757  5.83  5.87   \n",
       "\n",
       "          z  color_D  color_E  color_F  color_G  color_H  color_I  color_J  \n",
       "0      2.43        0        1        0        0        0        0        0  \n",
       "1      2.31        0        1        0        0        0        0        0  \n",
       "2      2.31        0        1        0        0        0        0        0  \n",
       "3      2.63        0        0        0        0        0        1        0  \n",
       "4      2.75        0        0        0        0        0        0        1  \n",
       "...     ...      ...      ...      ...      ...      ...      ...      ...  \n",
       "53935  3.50        1        0        0        0        0        0        0  \n",
       "53936  3.61        1        0        0        0        0        0        0  \n",
       "53937  3.56        1        0        0        0        0        0        0  \n",
       "53938  3.74        0        0        0        0        1        0        0  \n",
       "53939  3.64        1        0        0        0        0        0        0  \n",
       "\n",
       "[53940 rows x 17 columns]"
      ]
     },
     "execution_count": 58,
     "metadata": {
      "tags": []
     },
     "output_type": "execute_result"
    }
   ],
   "source": [
    "df"
   ]
  },
  {
   "cell_type": "markdown",
   "metadata": {
    "id": "YHeL3DNZmu69"
   },
   "source": [
    "##### Forth Approuch - Custom Encoding"
   ]
  },
  {
   "cell_type": "code",
   "execution_count": null,
   "metadata": {
    "id": "dd7P1exbmu69",
    "outputId": "ce6d53e0-ee09-4962-84c9-195db2a1e58b"
   },
   "outputs": [
    {
     "data": {
      "text/plain": [
       "SI1     13065\n",
       "VS2     12258\n",
       "SI2      9194\n",
       "VS1      8171\n",
       "VVS2     5066\n",
       "VVS1     3655\n",
       "IF       1790\n",
       "I1        741\n",
       "Name: clarity, dtype: int64"
      ]
     },
     "execution_count": 60,
     "metadata": {
      "tags": []
     },
     "output_type": "execute_result"
    }
   ],
   "source": [
    "df['clarity'].value_counts()"
   ]
  },
  {
   "cell_type": "markdown",
   "metadata": {
    "id": "ZeAslFnEmu6-"
   },
   "source": [
    "Some information about clarity:\n",
    "How clarity affects price (taken from [link](https://www.diamondmansion.com/blog/understanding-how-diamond-clarity-affects-value))"
   ]
  },
  {
   "cell_type": "markdown",
   "metadata": {
    "id": "lhSPpKBSmu6-"
   },
   "source": [
    "<table id=\"tablepress-1\" class=\"tablepress tablepress-id-1\">\n",
    "<thead>\n",
    "<tr class=\"row-1 odd\">\n",
    "<th class=\"column-1\">Clarity Increase</th><th class=\"column-2\">Approx. Price Increase (%)</th>\n",
    "</tr>\n",
    "</thead>\n",
    "<tbody class=\"row-hover\">\n",
    "<tr class=\"row-2 even\">\n",
    "<td class=\"column-1\">SI2-SI1</td><td class=\"column-2\">12%</td>\n",
    "</tr>\n",
    "<tr class=\"row-3 odd\">\n",
    "<td class=\"column-1\">SI1-VS2</td><td class=\"column-2\">22%</td>\n",
    "</tr>\n",
    "<tr class=\"row-4 even\">\n",
    "<td class=\"column-1\">VS2-VS1</td><td class=\"column-2\">9%</td>\n",
    "</tr>\n",
    "<tr class=\"row-5 odd\">\n",
    "<td class=\"column-1\">VS1-VVS2</td><td class=\"column-2\">13%</td>\n",
    "</tr>\n",
    "<tr class=\"row-6 even\">\n",
    "<td class=\"column-1\">VVS2-VVS1</td><td class=\"column-2\">28%</td>\n",
    "</tr>\n",
    "<tr class=\"row-7 odd\">\n",
    "<td class=\"column-1\">VVS1-IF</td><td class=\"column-2\">22%</td>\n",
    "</tr>\n",
    "</tbody>\n",
    "</table>"
   ]
  },
  {
   "cell_type": "markdown",
   "metadata": {
    "id": "IcqXZQw7mu6-"
   },
   "source": [
    "Cool Trick! Convert HTML table into dataframe object"
   ]
  },
  {
   "cell_type": "code",
   "execution_count": null,
   "metadata": {
    "id": "YOjsMmgHmu6-"
   },
   "outputs": [],
   "source": [
    "a = \"\"\"\n",
    "<table id=\"tablepress-1\" class=\"tablepress tablepress-id-1\">\n",
    "<thead>\n",
    "<tr class=\"row-1 odd\">\n",
    "<th class=\"column-1\">Clarity Increase</th><th class=\"column-2\">Approx. Price Increase (%)</th>\n",
    "</tr>\n",
    "</thead>\n",
    "<tbody class=\"row-hover\">\n",
    "<tr class=\"row-2 even\">\n",
    "<td class=\"column-1\">SI2-SI1</td><td class=\"column-2\">12%</td>\n",
    "</tr>\n",
    "<tr class=\"row-3 odd\">\n",
    "<td class=\"column-1\">SI1-VS2</td><td class=\"column-2\">22%</td>\n",
    "</tr>\n",
    "<tr class=\"row-4 even\">\n",
    "<td class=\"column-1\">VS2-VS1</td><td class=\"column-2\">9%</td>\n",
    "</tr>\n",
    "<tr class=\"row-5 odd\">\n",
    "<td class=\"column-1\">VS1-VVS2</td><td class=\"column-2\">13%</td>\n",
    "</tr>\n",
    "<tr class=\"row-6 even\">\n",
    "<td class=\"column-1\">VVS2-VVS1</td><td class=\"column-2\">28%</td>\n",
    "</tr>\n",
    "<tr class=\"row-7 odd\">\n",
    "<td class=\"column-1\">VVS1-IF</td><td class=\"column-2\">22%</td>\n",
    "</tr>\n",
    "</tbody>\n",
    "</table>\"\"\""
   ]
  },
  {
   "cell_type": "code",
   "execution_count": null,
   "metadata": {
    "id": "_JTCmh3lmu6-",
    "outputId": "3411029c-acce-4a6f-c0b3-0285e63b64d6"
   },
   "outputs": [
    {
     "data": {
      "text/html": [
       "<div>\n",
       "<style scoped>\n",
       "    .dataframe tbody tr th:only-of-type {\n",
       "        vertical-align: middle;\n",
       "    }\n",
       "\n",
       "    .dataframe tbody tr th {\n",
       "        vertical-align: top;\n",
       "    }\n",
       "\n",
       "    .dataframe thead th {\n",
       "        text-align: right;\n",
       "    }\n",
       "</style>\n",
       "<table border=\"1\" class=\"dataframe\">\n",
       "  <thead>\n",
       "    <tr style=\"text-align: right;\">\n",
       "      <th></th>\n",
       "      <th>Clarity Increase</th>\n",
       "      <th>Approx. Price Increase (%)</th>\n",
       "    </tr>\n",
       "  </thead>\n",
       "  <tbody>\n",
       "    <tr>\n",
       "      <th>0</th>\n",
       "      <td>SI2</td>\n",
       "      <td>12%</td>\n",
       "    </tr>\n",
       "    <tr>\n",
       "      <th>1</th>\n",
       "      <td>SI1</td>\n",
       "      <td>22%</td>\n",
       "    </tr>\n",
       "    <tr>\n",
       "      <th>2</th>\n",
       "      <td>VS2</td>\n",
       "      <td>9%</td>\n",
       "    </tr>\n",
       "    <tr>\n",
       "      <th>3</th>\n",
       "      <td>VS1</td>\n",
       "      <td>13%</td>\n",
       "    </tr>\n",
       "    <tr>\n",
       "      <th>4</th>\n",
       "      <td>VVS2</td>\n",
       "      <td>28%</td>\n",
       "    </tr>\n",
       "    <tr>\n",
       "      <th>5</th>\n",
       "      <td>VVS1</td>\n",
       "      <td>22%</td>\n",
       "    </tr>\n",
       "  </tbody>\n",
       "</table>\n",
       "</div>"
      ],
      "text/plain": [
       "  Clarity Increase Approx. Price Increase (%)\n",
       "0              SI2                        12%\n",
       "1              SI1                        22%\n",
       "2              VS2                         9%\n",
       "3              VS1                        13%\n",
       "4             VVS2                        28%\n",
       "5             VVS1                        22%"
      ]
     },
     "execution_count": 96,
     "metadata": {
      "tags": []
     },
     "output_type": "execute_result"
    }
   ],
   "source": [
    "df_clarity = pd.read_html(a)[0]\n",
    "df_clarity['Clarity Increase'] = [\"SI2\", \"SI1\", \"VS2\", \"VS1\", \"VVS2\", \"VVS1\"]\n",
    "df_clarity"
   ]
  },
  {
   "cell_type": "code",
   "execution_count": null,
   "metadata": {
    "id": "PvLd6RZKmu6_"
   },
   "outputs": [],
   "source": [
    "# Adding missing value\n",
    "df_clarity.iloc[6] = ['IF', 22]\n",
    "df_clarity.index = range(0,7)"
   ]
  },
  {
   "cell_type": "code",
   "execution_count": null,
   "metadata": {
    "id": "kdVXie_5mu6_"
   },
   "outputs": [],
   "source": [
    "df_clarity['price_increase'] = df_clarity['Approx. Price Increase (%)'].apply(lambda x: x.replace(\"%\",\"\")).astype(int)"
   ]
  },
  {
   "cell_type": "code",
   "execution_count": null,
   "metadata": {
    "id": "vIN0Y5gbmu6_",
    "outputId": "95f78e7c-862f-4887-83af-5c85c80fe73a"
   },
   "outputs": [
    {
     "data": {
      "text/html": [
       "<div>\n",
       "<style scoped>\n",
       "    .dataframe tbody tr th:only-of-type {\n",
       "        vertical-align: middle;\n",
       "    }\n",
       "\n",
       "    .dataframe tbody tr th {\n",
       "        vertical-align: top;\n",
       "    }\n",
       "\n",
       "    .dataframe thead th {\n",
       "        text-align: right;\n",
       "    }\n",
       "</style>\n",
       "<table border=\"1\" class=\"dataframe\">\n",
       "  <thead>\n",
       "    <tr style=\"text-align: right;\">\n",
       "      <th></th>\n",
       "      <th>Clarity Increase</th>\n",
       "      <th>price_increase</th>\n",
       "    </tr>\n",
       "  </thead>\n",
       "  <tbody>\n",
       "    <tr>\n",
       "      <th>0</th>\n",
       "      <td>VS2</td>\n",
       "      <td>9</td>\n",
       "    </tr>\n",
       "    <tr>\n",
       "      <th>1</th>\n",
       "      <td>SI2</td>\n",
       "      <td>12</td>\n",
       "    </tr>\n",
       "    <tr>\n",
       "      <th>2</th>\n",
       "      <td>VS1</td>\n",
       "      <td>13</td>\n",
       "    </tr>\n",
       "    <tr>\n",
       "      <th>3</th>\n",
       "      <td>SI1</td>\n",
       "      <td>22</td>\n",
       "    </tr>\n",
       "    <tr>\n",
       "      <th>4</th>\n",
       "      <td>VVS1</td>\n",
       "      <td>22</td>\n",
       "    </tr>\n",
       "    <tr>\n",
       "      <th>5</th>\n",
       "      <td>VVS2</td>\n",
       "      <td>28</td>\n",
       "    </tr>\n",
       "    <tr>\n",
       "      <th>6</th>\n",
       "      <td>IF</td>\n",
       "      <td>22</td>\n",
       "    </tr>\n",
       "  </tbody>\n",
       "</table>\n",
       "</div>"
      ],
      "text/plain": [
       "  Clarity Increase price_increase\n",
       "0              VS2              9\n",
       "1              SI2             12\n",
       "2              VS1             13\n",
       "3              SI1             22\n",
       "4             VVS1             22\n",
       "5             VVS2             28\n",
       "6               IF             22"
      ]
     },
     "execution_count": 143,
     "metadata": {
      "tags": []
     },
     "output_type": "execute_result"
    }
   ],
   "source": [
    "df_clarity"
   ]
  },
  {
   "cell_type": "code",
   "execution_count": null,
   "metadata": {
    "id": "0OBgagQOmu6_"
   },
   "outputs": [],
   "source": [
    "df_clarity.drop('Approx. Price Increase (%)', inplace=True, axis=1)"
   ]
  },
  {
   "cell_type": "code",
   "execution_count": null,
   "metadata": {
    "id": "t3FZ7Ep1mu6_",
    "outputId": "9fb78767-fe76-41cd-a04f-ee042c36f314"
   },
   "outputs": [
    {
     "data": {
      "text/html": [
       "<div>\n",
       "<style scoped>\n",
       "    .dataframe tbody tr th:only-of-type {\n",
       "        vertical-align: middle;\n",
       "    }\n",
       "\n",
       "    .dataframe tbody tr th {\n",
       "        vertical-align: top;\n",
       "    }\n",
       "\n",
       "    .dataframe thead th {\n",
       "        text-align: right;\n",
       "    }\n",
       "</style>\n",
       "<table border=\"1\" class=\"dataframe\">\n",
       "  <thead>\n",
       "    <tr style=\"text-align: right;\">\n",
       "      <th></th>\n",
       "      <th>Clarity Increase</th>\n",
       "      <th>price_increase</th>\n",
       "    </tr>\n",
       "  </thead>\n",
       "  <tbody>\n",
       "    <tr>\n",
       "      <th>0</th>\n",
       "      <td>VS2</td>\n",
       "      <td>9</td>\n",
       "    </tr>\n",
       "    <tr>\n",
       "      <th>1</th>\n",
       "      <td>SI2</td>\n",
       "      <td>12</td>\n",
       "    </tr>\n",
       "    <tr>\n",
       "      <th>2</th>\n",
       "      <td>VS1</td>\n",
       "      <td>13</td>\n",
       "    </tr>\n",
       "    <tr>\n",
       "      <th>3</th>\n",
       "      <td>SI1</td>\n",
       "      <td>22</td>\n",
       "    </tr>\n",
       "    <tr>\n",
       "      <th>4</th>\n",
       "      <td>VVS1</td>\n",
       "      <td>22</td>\n",
       "    </tr>\n",
       "    <tr>\n",
       "      <th>6</th>\n",
       "      <td>IF</td>\n",
       "      <td>22</td>\n",
       "    </tr>\n",
       "    <tr>\n",
       "      <th>5</th>\n",
       "      <td>VVS2</td>\n",
       "      <td>28</td>\n",
       "    </tr>\n",
       "  </tbody>\n",
       "</table>\n",
       "</div>"
      ],
      "text/plain": [
       "  Clarity Increase price_increase\n",
       "0              VS2              9\n",
       "1              SI2             12\n",
       "2              VS1             13\n",
       "3              SI1             22\n",
       "4             VVS1             22\n",
       "6               IF             22\n",
       "5             VVS2             28"
      ]
     },
     "execution_count": 144,
     "metadata": {
      "tags": []
     },
     "output_type": "execute_result"
    }
   ],
   "source": [
    "df_clarity.sort_values(['price_increase'], inplace=True)\n",
    "df_clarity"
   ]
  },
  {
   "cell_type": "code",
   "execution_count": null,
   "metadata": {
    "id": "GLnBBLPwmu7A"
   },
   "outputs": [],
   "source": [
    "import numpy as np"
   ]
  },
  {
   "cell_type": "code",
   "execution_count": null,
   "metadata": {
    "id": "VcuSkpd3mu7A",
    "outputId": "953a3e59-7fad-46c3-9a86-1569adf0b464"
   },
   "outputs": [
    {
     "data": {
      "text/plain": [
       "SI1     13065\n",
       "VS2     12258\n",
       "SI2      9194\n",
       "VS1      8171\n",
       "VVS2     5066\n",
       "VVS1     3655\n",
       "IF       1790\n",
       "I1        741\n",
       "Name: clarity, dtype: int64"
      ]
     },
     "execution_count": 166,
     "metadata": {
      "tags": []
     },
     "output_type": "execute_result"
    }
   ],
   "source": [
    "df[\"clarity\"].value_counts()"
   ]
  },
  {
   "cell_type": "code",
   "execution_count": null,
   "metadata": {
    "id": "mzc9gmm6mu7A",
    "outputId": "b5e0f828-e154-4fff-d874-d8fb27e9813c"
   },
   "outputs": [
    {
     "data": {
      "text/plain": [
       "0    30364\n",
       "1    23576\n",
       "Name: high_quality_clarity, dtype: int64"
      ]
     },
     "execution_count": 174,
     "metadata": {
      "tags": []
     },
     "output_type": "execute_result"
    }
   ],
   "source": [
    "# let's assume we would like to tage all clarity types which cause >20% price increase. \n",
    "# We can create a new feature which will hold this data \n",
    "df[\"high_quality_clarity\"] = np.where(np.isin(df[\"clarity\"],['SI1', 'VVS1', 'IF', 'VVS2']), 1, 0)\n",
    "\n",
    "df['high_quality_clarity'].value_counts()"
   ]
  },
  {
   "cell_type": "code",
   "execution_count": null,
   "metadata": {
    "id": "L8CzrKEwmu7A",
    "outputId": "16af50d4-1a57-410f-d309-e70983a8a7b6"
   },
   "outputs": [
    {
     "data": {
      "text/plain": [
       "<matplotlib.axes._subplots.AxesSubplot at 0x7f97fc0777c0>"
      ]
     },
     "execution_count": 176,
     "metadata": {
      "tags": []
     },
     "output_type": "execute_result"
    },
    {
     "data": {
      "image/png": "[encoded data removed]",
      "text/plain": [
       "<Figure size 432x288 with 1 Axes>"
      ]
     },
     "metadata": {
      "needs_background": "light",
      "tags": []
     },
     "output_type": "display_data"
    }
   ],
   "source": [
    "sns.countplot(df['high_quality_clarity'])"
   ]
  },
  {
   "cell_type": "markdown",
   "metadata": {
    "id": "HG90Hsykmu7A"
   },
   "source": [
    "### Practice 2"
   ]
  },
  {
   "cell_type": "markdown",
   "metadata": {
    "id": "-6GKvYhwmu7B"
   },
   "source": [
    "In corrdemo.csv (uploaded to drive), find correlations between the different features. Use both heatmap and pairplot in order to explore the data"
   ]
  },
  {
   "cell_type": "markdown",
   "metadata": {
    "id": "H8tvVcEBmu7B"
   },
   "source": [
    "#### Solution"
   ]
  },
  {
   "cell_type": "markdown",
   "metadata": {
    "id": "0zV92hjYmu7B"
   },
   "source": [
    "Check 'Correlation' notebook in the drive for solution"
   ]
  },
  {
   "cell_type": "markdown",
   "metadata": {
    "id": "UaU36vMumu7B"
   },
   "source": [
    "### Practice 3"
   ]
  },
  {
   "cell_type": "markdown",
   "metadata": {
    "id": "eCr-mYNYmu7B"
   },
   "source": [
    "In dataclean.csv (uploaded to drive), fill the missing values. Use seaborn's distplot graph in order to check the data distribution."
   ]
  },
  {
   "cell_type": "markdown",
   "metadata": {
    "id": "hZsJdv9-mu7B"
   },
   "source": [
    "#### Solution"
   ]
  },
  {
   "cell_type": "markdown",
   "metadata": {
    "id": "Fpd_ANaWmu7B"
   },
   "source": [
    "Check 'Data clean' notebook in the drive for solution"
   ]
  }
 ],
 "metadata": {
  "colab": {
   "name": "Diamonds Practice.ipynb",
   "provenance": []
  },
  "kernelspec": {
   "display_name": "Python 3",
   "language": "python",
   "name": "python3"
  },
  "language_info": {
   "codemirror_mode": {
    "name": "ipython",
    "version": 3
   },
   "file_extension": ".py",
   "mimetype": "text/x-python",
   "name": "python",
   "nbconvert_exporter": "python",
   "pygments_lexer": "ipython3",
   "version": "3.8.8"
  }
 },
 "nbformat": 4,
 "nbformat_minor": 1
}
